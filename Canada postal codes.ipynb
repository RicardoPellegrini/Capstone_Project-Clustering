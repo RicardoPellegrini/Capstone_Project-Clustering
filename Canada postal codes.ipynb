{
 "cells": [
  {
   "cell_type": "code",
   "execution_count": 1,
   "metadata": {},
   "outputs": [],
   "source": [
    "# Importing libraries\n",
    "import pandas as pd\n",
    "import numpy as np\n",
    "import folium\n",
    "import requests\n",
    "from sklearn.cluster import KMeans\n",
    "import matplotlib.cm as cm\n",
    "import matplotlib.colors as colors"
   ]
  },
  {
   "cell_type": "markdown",
   "metadata": {},
   "source": [
    "### Loading the dataset from web page"
   ]
  },
  {
   "cell_type": "code",
   "execution_count": 2,
   "metadata": {},
   "outputs": [],
   "source": [
    "# Using pandas to open wikipedia page\n",
    "df = pd.read_html('https://en.wikipedia.org/wiki/List_of_postal_codes_of_Canada:_M',header=0)\n",
    "df1 = df[0]"
   ]
  },
  {
   "cell_type": "markdown",
   "metadata": {},
   "source": [
    "### Pre-processing the wikipedia dataset"
   ]
  },
  {
   "cell_type": "code",
   "execution_count": 3,
   "metadata": {},
   "outputs": [
    {
     "data": {
      "text/html": [
       "<div>\n",
       "<style scoped>\n",
       "    .dataframe tbody tr th:only-of-type {\n",
       "        vertical-align: middle;\n",
       "    }\n",
       "\n",
       "    .dataframe tbody tr th {\n",
       "        vertical-align: top;\n",
       "    }\n",
       "\n",
       "    .dataframe thead th {\n",
       "        text-align: right;\n",
       "    }\n",
       "</style>\n",
       "<table border=\"1\" class=\"dataframe\">\n",
       "  <thead>\n",
       "    <tr style=\"text-align: right;\">\n",
       "      <th></th>\n",
       "      <th>Postal code</th>\n",
       "      <th>Borough</th>\n",
       "      <th>Neighborhood</th>\n",
       "    </tr>\n",
       "  </thead>\n",
       "  <tbody>\n",
       "    <tr>\n",
       "      <th>0</th>\n",
       "      <td>M3A</td>\n",
       "      <td>North York</td>\n",
       "      <td>Parkwoods</td>\n",
       "    </tr>\n",
       "    <tr>\n",
       "      <th>1</th>\n",
       "      <td>M4A</td>\n",
       "      <td>North York</td>\n",
       "      <td>Victoria Village</td>\n",
       "    </tr>\n",
       "    <tr>\n",
       "      <th>2</th>\n",
       "      <td>M5A</td>\n",
       "      <td>Downtown Toronto</td>\n",
       "      <td>Regent Park / Harbourfront</td>\n",
       "    </tr>\n",
       "    <tr>\n",
       "      <th>3</th>\n",
       "      <td>M6A</td>\n",
       "      <td>North York</td>\n",
       "      <td>Lawrence Manor / Lawrence Heights</td>\n",
       "    </tr>\n",
       "    <tr>\n",
       "      <th>4</th>\n",
       "      <td>M7A</td>\n",
       "      <td>Downtown Toronto</td>\n",
       "      <td>Queen's Park / Ontario Provincial Government</td>\n",
       "    </tr>\n",
       "  </tbody>\n",
       "</table>\n",
       "</div>"
      ],
      "text/plain": [
       "  Postal code           Borough                                  Neighborhood\n",
       "0         M3A        North York                                     Parkwoods\n",
       "1         M4A        North York                              Victoria Village\n",
       "2         M5A  Downtown Toronto                    Regent Park / Harbourfront\n",
       "3         M6A        North York             Lawrence Manor / Lawrence Heights\n",
       "4         M7A  Downtown Toronto  Queen's Park / Ontario Provincial Government"
      ]
     },
     "execution_count": 3,
     "metadata": {},
     "output_type": "execute_result"
    }
   ],
   "source": [
    "# Dropping all the rows with borough 'not assigned'\n",
    "df1.drop(index=df1[df1['Borough']=='Not assigned'].index,inplace=True)\n",
    "\n",
    "# Setting a new index to this dataframe\n",
    "df1.reset_index(inplace=True,drop=True)\n",
    "\n",
    "df1.head()"
   ]
  },
  {
   "cell_type": "code",
   "execution_count": 4,
   "metadata": {},
   "outputs": [
    {
     "data": {
      "text/html": [
       "<div>\n",
       "<style scoped>\n",
       "    .dataframe tbody tr th:only-of-type {\n",
       "        vertical-align: middle;\n",
       "    }\n",
       "\n",
       "    .dataframe tbody tr th {\n",
       "        vertical-align: top;\n",
       "    }\n",
       "\n",
       "    .dataframe thead th {\n",
       "        text-align: right;\n",
       "    }\n",
       "</style>\n",
       "<table border=\"1\" class=\"dataframe\">\n",
       "  <thead>\n",
       "    <tr style=\"text-align: right;\">\n",
       "      <th></th>\n",
       "      <th>Postal code</th>\n",
       "      <th>Borough</th>\n",
       "      <th>Neighborhood</th>\n",
       "    </tr>\n",
       "  </thead>\n",
       "  <tbody>\n",
       "    <tr>\n",
       "      <th>2</th>\n",
       "      <td>M5A</td>\n",
       "      <td>Downtown Toronto</td>\n",
       "      <td>Regent Park / Harbourfront</td>\n",
       "    </tr>\n",
       "  </tbody>\n",
       "</table>\n",
       "</div>"
      ],
      "text/plain": [
       "  Postal code           Borough                Neighborhood\n",
       "2         M5A  Downtown Toronto  Regent Park / Harbourfront"
      ]
     },
     "execution_count": 4,
     "metadata": {},
     "output_type": "execute_result"
    }
   ],
   "source": [
    "# Checking if the specific postal code 'M5A' is duplicated\n",
    "df1[df1['Postal code']=='M5A']"
   ]
  },
  {
   "cell_type": "code",
   "execution_count": 5,
   "metadata": {},
   "outputs": [
    {
     "data": {
      "text/plain": [
       "False"
      ]
     },
     "execution_count": 5,
     "metadata": {},
     "output_type": "execute_result"
    }
   ],
   "source": [
    "# Checking if there is any postal code duplicated\n",
    "ch = pd.DataFrame(df1.groupby('Postal code').count())\n",
    "any(ch['Borough']!=1)"
   ]
  },
  {
   "cell_type": "code",
   "execution_count": 6,
   "metadata": {},
   "outputs": [
    {
     "data": {
      "text/plain": [
       "False"
      ]
     },
     "execution_count": 6,
     "metadata": {},
     "output_type": "execute_result"
    }
   ],
   "source": [
    "# Checking if we have any 'Not assigned' in the 'neighborhood' column.\n",
    "'Not assigned'in df1['Neighborhood'].values.tolist()"
   ]
  },
  {
   "cell_type": "code",
   "execution_count": 7,
   "metadata": {},
   "outputs": [
    {
     "data": {
      "text/plain": [
       "(103, 3)"
      ]
     },
     "execution_count": 7,
     "metadata": {},
     "output_type": "execute_result"
    }
   ],
   "source": [
    "# Shape of the dataframe\n",
    "df1.shape"
   ]
  },
  {
   "cell_type": "markdown",
   "metadata": {},
   "source": [
    "### Adding geospatial coordinates"
   ]
  },
  {
   "cell_type": "code",
   "execution_count": 8,
   "metadata": {},
   "outputs": [
    {
     "data": {
      "text/html": [
       "<div>\n",
       "<style scoped>\n",
       "    .dataframe tbody tr th:only-of-type {\n",
       "        vertical-align: middle;\n",
       "    }\n",
       "\n",
       "    .dataframe tbody tr th {\n",
       "        vertical-align: top;\n",
       "    }\n",
       "\n",
       "    .dataframe thead th {\n",
       "        text-align: right;\n",
       "    }\n",
       "</style>\n",
       "<table border=\"1\" class=\"dataframe\">\n",
       "  <thead>\n",
       "    <tr style=\"text-align: right;\">\n",
       "      <th></th>\n",
       "      <th>Postal Code</th>\n",
       "      <th>Latitude</th>\n",
       "      <th>Longitude</th>\n",
       "    </tr>\n",
       "  </thead>\n",
       "  <tbody>\n",
       "    <tr>\n",
       "      <th>0</th>\n",
       "      <td>M1B</td>\n",
       "      <td>43.806686</td>\n",
       "      <td>-79.194353</td>\n",
       "    </tr>\n",
       "    <tr>\n",
       "      <th>1</th>\n",
       "      <td>M1C</td>\n",
       "      <td>43.784535</td>\n",
       "      <td>-79.160497</td>\n",
       "    </tr>\n",
       "    <tr>\n",
       "      <th>2</th>\n",
       "      <td>M1E</td>\n",
       "      <td>43.763573</td>\n",
       "      <td>-79.188711</td>\n",
       "    </tr>\n",
       "    <tr>\n",
       "      <th>3</th>\n",
       "      <td>M1G</td>\n",
       "      <td>43.770992</td>\n",
       "      <td>-79.216917</td>\n",
       "    </tr>\n",
       "    <tr>\n",
       "      <th>4</th>\n",
       "      <td>M1H</td>\n",
       "      <td>43.773136</td>\n",
       "      <td>-79.239476</td>\n",
       "    </tr>\n",
       "  </tbody>\n",
       "</table>\n",
       "</div>"
      ],
      "text/plain": [
       "  Postal Code   Latitude  Longitude\n",
       "0         M1B  43.806686 -79.194353\n",
       "1         M1C  43.784535 -79.160497\n",
       "2         M1E  43.763573 -79.188711\n",
       "3         M1G  43.770992 -79.216917\n",
       "4         M1H  43.773136 -79.239476"
      ]
     },
     "execution_count": 8,
     "metadata": {},
     "output_type": "execute_result"
    }
   ],
   "source": [
    "# Loading geospatial coordinates dataset\n",
    "coord = pd.read_csv('Geospatial_Coordinates.csv')\n",
    "coord.head()"
   ]
  },
  {
   "cell_type": "code",
   "execution_count": 9,
   "metadata": {},
   "outputs": [
    {
     "data": {
      "text/html": [
       "<div>\n",
       "<style scoped>\n",
       "    .dataframe tbody tr th:only-of-type {\n",
       "        vertical-align: middle;\n",
       "    }\n",
       "\n",
       "    .dataframe tbody tr th {\n",
       "        vertical-align: top;\n",
       "    }\n",
       "\n",
       "    .dataframe thead th {\n",
       "        text-align: right;\n",
       "    }\n",
       "</style>\n",
       "<table border=\"1\" class=\"dataframe\">\n",
       "  <thead>\n",
       "    <tr style=\"text-align: right;\">\n",
       "      <th></th>\n",
       "      <th>Postal code</th>\n",
       "      <th>Borough</th>\n",
       "      <th>Neighborhood</th>\n",
       "      <th>Latitude</th>\n",
       "      <th>Longitude</th>\n",
       "    </tr>\n",
       "  </thead>\n",
       "  <tbody>\n",
       "    <tr>\n",
       "      <th>0</th>\n",
       "      <td>M3A</td>\n",
       "      <td>North York</td>\n",
       "      <td>Parkwoods</td>\n",
       "      <td>43.753259</td>\n",
       "      <td>-79.329656</td>\n",
       "    </tr>\n",
       "    <tr>\n",
       "      <th>1</th>\n",
       "      <td>M4A</td>\n",
       "      <td>North York</td>\n",
       "      <td>Victoria Village</td>\n",
       "      <td>43.725882</td>\n",
       "      <td>-79.315572</td>\n",
       "    </tr>\n",
       "    <tr>\n",
       "      <th>2</th>\n",
       "      <td>M5A</td>\n",
       "      <td>Downtown Toronto</td>\n",
       "      <td>Regent Park / Harbourfront</td>\n",
       "      <td>43.654260</td>\n",
       "      <td>-79.360636</td>\n",
       "    </tr>\n",
       "    <tr>\n",
       "      <th>3</th>\n",
       "      <td>M6A</td>\n",
       "      <td>North York</td>\n",
       "      <td>Lawrence Manor / Lawrence Heights</td>\n",
       "      <td>43.718518</td>\n",
       "      <td>-79.464763</td>\n",
       "    </tr>\n",
       "    <tr>\n",
       "      <th>4</th>\n",
       "      <td>M7A</td>\n",
       "      <td>Downtown Toronto</td>\n",
       "      <td>Queen's Park / Ontario Provincial Government</td>\n",
       "      <td>43.662301</td>\n",
       "      <td>-79.389494</td>\n",
       "    </tr>\n",
       "  </tbody>\n",
       "</table>\n",
       "</div>"
      ],
      "text/plain": [
       "  Postal code           Borough                                  Neighborhood  \\\n",
       "0         M3A        North York                                     Parkwoods   \n",
       "1         M4A        North York                              Victoria Village   \n",
       "2         M5A  Downtown Toronto                    Regent Park / Harbourfront   \n",
       "3         M6A        North York             Lawrence Manor / Lawrence Heights   \n",
       "4         M7A  Downtown Toronto  Queen's Park / Ontario Provincial Government   \n",
       "\n",
       "    Latitude  Longitude  \n",
       "0  43.753259 -79.329656  \n",
       "1  43.725882 -79.315572  \n",
       "2  43.654260 -79.360636  \n",
       "3  43.718518 -79.464763  \n",
       "4  43.662301 -79.389494  "
      ]
     },
     "execution_count": 9,
     "metadata": {},
     "output_type": "execute_result"
    }
   ],
   "source": [
    "# Merging both dataframes on postal code name\n",
    "df2 = df1.merge(coord,how='inner',left_on='Postal code',right_on='Postal Code')\n",
    "df2.drop('Postal Code',axis=1,inplace=True)\n",
    "df2.head()"
   ]
  },
  {
   "cell_type": "code",
   "execution_count": 10,
   "metadata": {},
   "outputs": [
    {
     "data": {
      "text/plain": [
       "(103, 5)"
      ]
     },
     "execution_count": 10,
     "metadata": {},
     "output_type": "execute_result"
    }
   ],
   "source": [
    "df2.shape"
   ]
  },
  {
   "cell_type": "markdown",
   "metadata": {},
   "source": [
    "### Subsetting for only Boroughs containing 'Toronto'"
   ]
  },
  {
   "cell_type": "code",
   "execution_count": 11,
   "metadata": {},
   "outputs": [
    {
     "data": {
      "text/html": [
       "<div>\n",
       "<style scoped>\n",
       "    .dataframe tbody tr th:only-of-type {\n",
       "        vertical-align: middle;\n",
       "    }\n",
       "\n",
       "    .dataframe tbody tr th {\n",
       "        vertical-align: top;\n",
       "    }\n",
       "\n",
       "    .dataframe thead th {\n",
       "        text-align: right;\n",
       "    }\n",
       "</style>\n",
       "<table border=\"1\" class=\"dataframe\">\n",
       "  <thead>\n",
       "    <tr style=\"text-align: right;\">\n",
       "      <th></th>\n",
       "      <th>Postal code</th>\n",
       "      <th>Borough</th>\n",
       "      <th>Neighborhood</th>\n",
       "      <th>Latitude</th>\n",
       "      <th>Longitude</th>\n",
       "    </tr>\n",
       "  </thead>\n",
       "  <tbody>\n",
       "    <tr>\n",
       "      <th>0</th>\n",
       "      <td>M5A</td>\n",
       "      <td>Downtown Toronto</td>\n",
       "      <td>Regent Park / Harbourfront</td>\n",
       "      <td>43.654260</td>\n",
       "      <td>-79.360636</td>\n",
       "    </tr>\n",
       "    <tr>\n",
       "      <th>1</th>\n",
       "      <td>M7A</td>\n",
       "      <td>Downtown Toronto</td>\n",
       "      <td>Queen's Park / Ontario Provincial Government</td>\n",
       "      <td>43.662301</td>\n",
       "      <td>-79.389494</td>\n",
       "    </tr>\n",
       "    <tr>\n",
       "      <th>2</th>\n",
       "      <td>M5B</td>\n",
       "      <td>Downtown Toronto</td>\n",
       "      <td>Garden District, Ryerson</td>\n",
       "      <td>43.657162</td>\n",
       "      <td>-79.378937</td>\n",
       "    </tr>\n",
       "    <tr>\n",
       "      <th>3</th>\n",
       "      <td>M5C</td>\n",
       "      <td>Downtown Toronto</td>\n",
       "      <td>St. James Town</td>\n",
       "      <td>43.651494</td>\n",
       "      <td>-79.375418</td>\n",
       "    </tr>\n",
       "    <tr>\n",
       "      <th>4</th>\n",
       "      <td>M4E</td>\n",
       "      <td>East Toronto</td>\n",
       "      <td>The Beaches</td>\n",
       "      <td>43.676357</td>\n",
       "      <td>-79.293031</td>\n",
       "    </tr>\n",
       "  </tbody>\n",
       "</table>\n",
       "</div>"
      ],
      "text/plain": [
       "  Postal code           Borough                                  Neighborhood  \\\n",
       "0         M5A  Downtown Toronto                    Regent Park / Harbourfront   \n",
       "1         M7A  Downtown Toronto  Queen's Park / Ontario Provincial Government   \n",
       "2         M5B  Downtown Toronto                      Garden District, Ryerson   \n",
       "3         M5C  Downtown Toronto                                St. James Town   \n",
       "4         M4E      East Toronto                                   The Beaches   \n",
       "\n",
       "    Latitude  Longitude  \n",
       "0  43.654260 -79.360636  \n",
       "1  43.662301 -79.389494  \n",
       "2  43.657162 -79.378937  \n",
       "3  43.651494 -79.375418  \n",
       "4  43.676357 -79.293031  "
      ]
     },
     "execution_count": 11,
     "metadata": {},
     "output_type": "execute_result"
    }
   ],
   "source": [
    "toronto_data = df2[df2['Borough'].str.contains('Toronto')].reset_index(drop=True)\n",
    "toronto_data.head()"
   ]
  },
  {
   "cell_type": "markdown",
   "metadata": {},
   "source": [
    "### Putting the locations into a map using Folium"
   ]
  },
  {
   "cell_type": "code",
   "execution_count": 12,
   "metadata": {
    "scrolled": true
   },
   "outputs": [
    {
     "data": {
      "text/html": [
       "<div style=\"width:100%;\"><div style=\"position:relative;width:100%;height:0;padding-bottom:60%;\"><iframe src=\"about:blank\" style=\"position:absolute;width:100%;height:100%;left:0;top:0;border:none !important;\" data-html=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 onload=\"this.contentDocument.open();this.contentDocument.write(atob(this.getAttribute('data-html')));this.contentDocument.close();\" allowfullscreen webkitallowfullscreen mozallowfullscreen></iframe></div></div>"
      ],
      "text/plain": [
       "<folium.folium.Map at 0x1f8f5d164a8>"
      ]
     },
     "execution_count": 12,
     "metadata": {},
     "output_type": "execute_result"
    }
   ],
   "source": [
    "# create map of Manhattan using latitude and longitude values\n",
    "map_toronto = folium.Map(location=[toronto_data['Latitude'].mean(), toronto_data['Longitude'].mean()], zoom_start=11)\n",
    "\n",
    "# add markers to map\n",
    "for lat, lng, label in zip(toronto_data['Latitude'], toronto_data['Longitude'], toronto_data['Neighborhood']):\n",
    "    label = folium.Popup(label, parse_html=True)\n",
    "    folium.CircleMarker(\n",
    "        [lat, lng],\n",
    "        radius=5,\n",
    "        popup=label,\n",
    "        color='blue',\n",
    "        fill=True,\n",
    "        fill_color='#3186cc',\n",
    "        fill_opacity=0.7,\n",
    "        parse_html=False).add_to(map_toronto)  \n",
    "    \n",
    "map_toronto"
   ]
  },
  {
   "cell_type": "markdown",
   "metadata": {},
   "source": [
    "### Define Foursquare Credentials and Version"
   ]
  },
  {
   "cell_type": "code",
   "execution_count": 13,
   "metadata": {},
   "outputs": [
    {
     "name": "stdout",
     "output_type": "stream",
     "text": [
      "Your credentails:\n",
      "CLIENT_ID: CDD0NSC3NPGZABYFRDMHBM50QG1F1AFQY1GOOA5EPGJ1UI23\n",
      "CLIENT_SECRET:PQRQVZKJUVEWGFA3HQGMEYIC2WT0ELXDLBIR00PMNOUHRQOM\n"
     ]
    }
   ],
   "source": [
    "CLIENT_ID = 'CDD0NSC3NPGZABYFRDMHBM50QG1F1AFQY1GOOA5EPGJ1UI23' # your Foursquare ID\n",
    "CLIENT_SECRET = 'PQRQVZKJUVEWGFA3HQGMEYIC2WT0ELXDLBIR00PMNOUHRQOM' # your Foursquare Secret\n",
    "VERSION = '20180605' # Foursquare API version\n",
    "\n",
    "print('Your credentails:')\n",
    "print('CLIENT_ID: ' + CLIENT_ID)\n",
    "print('CLIENT_SECRET:' + CLIENT_SECRET)"
   ]
  },
  {
   "cell_type": "markdown",
   "metadata": {},
   "source": [
    "### Exploring the venues nearby in Toronto_data"
   ]
  },
  {
   "cell_type": "code",
   "execution_count": 14,
   "metadata": {},
   "outputs": [],
   "source": [
    "# Creating a function to obtain all the venues nearby to each of the locations\n",
    "LIMIT = 100\n",
    "\n",
    "def getNearbyVenues(names, latitudes, longitudes, radius=500):\n",
    "    \n",
    "    venues_list=[]\n",
    "    for name, lat, lng in zip(names, latitudes, longitudes):\n",
    "        print(name)\n",
    "            \n",
    "        # create the API request URL\n",
    "        url = 'https://api.foursquare.com/v2/venues/explore?&client_id={}&client_secret={}&v={}&ll={},{}&radius={}&limit={}'.format(\n",
    "            CLIENT_ID, \n",
    "            CLIENT_SECRET, \n",
    "            VERSION, \n",
    "            lat, \n",
    "            lng, \n",
    "            radius, \n",
    "            LIMIT)\n",
    "            \n",
    "        # make the GET request\n",
    "        results = requests.get(url).json()[\"response\"]['groups'][0]['items']\n",
    "        \n",
    "        # return only relevant information for each nearby venue\n",
    "        venues_list.append([(\n",
    "            name, \n",
    "            lat, \n",
    "            lng, \n",
    "            v['venue']['name'], \n",
    "            v['venue']['location']['lat'], \n",
    "            v['venue']['location']['lng'],  \n",
    "            v['venue']['categories'][0]['name']) for v in results])\n",
    "\n",
    "    nearby_venues = pd.DataFrame([item for venue_list in venues_list for item in venue_list])\n",
    "    nearby_venues.columns = ['Neighborhood', \n",
    "                  'Neighborhood Latitude', \n",
    "                  'Neighborhood Longitude', \n",
    "                  'Venue', \n",
    "                  'Venue Latitude', \n",
    "                  'Venue Longitude', \n",
    "                  'Venue Category']\n",
    "    \n",
    "    return(nearby_venues)"
   ]
  },
  {
   "cell_type": "code",
   "execution_count": 15,
   "metadata": {
    "scrolled": true
   },
   "outputs": [
    {
     "name": "stdout",
     "output_type": "stream",
     "text": [
      "Regent Park / Harbourfront\n",
      "Queen's Park / Ontario Provincial Government\n",
      "Garden District, Ryerson\n",
      "St. James Town\n",
      "The Beaches\n"
     ]
    },
    {
     "ename": "KeyError",
     "evalue": "'groups'",
     "output_type": "error",
     "traceback": [
      "\u001b[1;31m---------------------------------------------------------------------------\u001b[0m",
      "\u001b[1;31mKeyError\u001b[0m                                  Traceback (most recent call last)",
      "\u001b[1;32m<ipython-input-15-b35d0877f1c3>\u001b[0m in \u001b[0;36m<module>\u001b[1;34m()\u001b[0m\n\u001b[0;32m      2\u001b[0m toronto_venues = getNearbyVenues(names=toronto_data['Neighborhood'],\n\u001b[0;32m      3\u001b[0m                                    \u001b[0mlatitudes\u001b[0m\u001b[1;33m=\u001b[0m\u001b[0mtoronto_data\u001b[0m\u001b[1;33m[\u001b[0m\u001b[1;34m'Latitude'\u001b[0m\u001b[1;33m]\u001b[0m\u001b[1;33m,\u001b[0m\u001b[1;33m\u001b[0m\u001b[0m\n\u001b[1;32m----> 4\u001b[1;33m                                    \u001b[0mlongitudes\u001b[0m\u001b[1;33m=\u001b[0m\u001b[0mtoronto_data\u001b[0m\u001b[1;33m[\u001b[0m\u001b[1;34m'Longitude'\u001b[0m\u001b[1;33m]\u001b[0m\u001b[1;33m\u001b[0m\u001b[0m\n\u001b[0m\u001b[0;32m      5\u001b[0m                                   )\n",
      "\u001b[1;32m<ipython-input-14-103bc89a5bc3>\u001b[0m in \u001b[0;36mgetNearbyVenues\u001b[1;34m(names, latitudes, longitudes, radius)\u001b[0m\n\u001b[0;32m     19\u001b[0m \u001b[1;33m\u001b[0m\u001b[0m\n\u001b[0;32m     20\u001b[0m         \u001b[1;31m# make the GET request\u001b[0m\u001b[1;33m\u001b[0m\u001b[1;33m\u001b[0m\u001b[0m\n\u001b[1;32m---> 21\u001b[1;33m         \u001b[0mresults\u001b[0m \u001b[1;33m=\u001b[0m \u001b[0mrequests\u001b[0m\u001b[1;33m.\u001b[0m\u001b[0mget\u001b[0m\u001b[1;33m(\u001b[0m\u001b[0murl\u001b[0m\u001b[1;33m)\u001b[0m\u001b[1;33m.\u001b[0m\u001b[0mjson\u001b[0m\u001b[1;33m(\u001b[0m\u001b[1;33m)\u001b[0m\u001b[1;33m[\u001b[0m\u001b[1;34m\"response\"\u001b[0m\u001b[1;33m]\u001b[0m\u001b[1;33m[\u001b[0m\u001b[1;34m'groups'\u001b[0m\u001b[1;33m]\u001b[0m\u001b[1;33m[\u001b[0m\u001b[1;36m0\u001b[0m\u001b[1;33m]\u001b[0m\u001b[1;33m[\u001b[0m\u001b[1;34m'items'\u001b[0m\u001b[1;33m]\u001b[0m\u001b[1;33m\u001b[0m\u001b[0m\n\u001b[0m\u001b[0;32m     22\u001b[0m \u001b[1;33m\u001b[0m\u001b[0m\n\u001b[0;32m     23\u001b[0m         \u001b[1;31m# return only relevant information for each nearby venue\u001b[0m\u001b[1;33m\u001b[0m\u001b[1;33m\u001b[0m\u001b[0m\n",
      "\u001b[1;31mKeyError\u001b[0m: 'groups'"
     ]
    }
   ],
   "source": [
    "# Applying the function to find the neighborhoods nearby\n",
    "toronto_venues = getNearbyVenues(names=toronto_data['Neighborhood'],\n",
    "                                   latitudes=toronto_data['Latitude'],\n",
    "                                   longitudes=toronto_data['Longitude']\n",
    "                                  )"
   ]
  },
  {
   "cell_type": "markdown",
   "metadata": {},
   "source": [
    "### Checking the size of this new dataframe"
   ]
  },
  {
   "cell_type": "code",
   "execution_count": null,
   "metadata": {},
   "outputs": [],
   "source": [
    "print(toronto_venues.shape)\n",
    "toronto_venues.head()"
   ]
  },
  {
   "cell_type": "markdown",
   "metadata": {},
   "source": [
    "### Checking how many venues were returned for each neighborhood"
   ]
  },
  {
   "cell_type": "code",
   "execution_count": null,
   "metadata": {
    "scrolled": true
   },
   "outputs": [],
   "source": [
    "toronto_venues.groupby('Neighborhood').count()[['Venue']]"
   ]
  },
  {
   "cell_type": "markdown",
   "metadata": {},
   "source": [
    "### Analising each neighborhood"
   ]
  },
  {
   "cell_type": "code",
   "execution_count": null,
   "metadata": {},
   "outputs": [],
   "source": [
    "# one hot encoding\n",
    "toronto_onehot = pd.get_dummies(toronto_venues[['Venue Category']], prefix=\"\", prefix_sep=\"\")\n",
    "toronto_onehot.drop('Neighborhood',axis=1,inplace=True)\n",
    "\n",
    "# add neighborhood column back to dataframe\n",
    "toronto_onehot = pd.concat([toronto_venues[['Neighborhood']],toronto_onehot],axis=1)\n",
    "\n",
    "toronto_onehot.head()"
   ]
  },
  {
   "cell_type": "markdown",
   "metadata": {},
   "source": [
    "### Grouping rows by neighborhood and by taking the mean of the frequency of occurrence of each category"
   ]
  },
  {
   "cell_type": "code",
   "execution_count": null,
   "metadata": {},
   "outputs": [],
   "source": [
    "toronto_grouped = toronto_onehot.groupby('Neighborhood').mean().reset_index()\n",
    "toronto_grouped"
   ]
  },
  {
   "cell_type": "markdown",
   "metadata": {},
   "source": [
    "### Printing each neighborhood along with the top 5 most common venues"
   ]
  },
  {
   "cell_type": "code",
   "execution_count": null,
   "metadata": {},
   "outputs": [],
   "source": [
    "num_top_venues = 5\n",
    "\n",
    "for hood in toronto_grouped['Neighborhood']:\n",
    "    print(\"----\"+hood+\"----\")\n",
    "    temp = toronto_grouped[toronto_grouped['Neighborhood'] == hood].T.reset_index()\n",
    "    temp.columns = ['venue','freq']\n",
    "    temp = temp.iloc[1:]\n",
    "    temp['freq'] = temp['freq'].astype(float)\n",
    "    temp = temp.round({'freq': 2})\n",
    "    print(temp.sort_values('freq', ascending=False).reset_index(drop=True).head(num_top_venues))\n",
    "    print('\\n')"
   ]
  },
  {
   "cell_type": "markdown",
   "metadata": {},
   "source": [
    "### Function to sort the venues in descending order"
   ]
  },
  {
   "cell_type": "code",
   "execution_count": null,
   "metadata": {},
   "outputs": [],
   "source": [
    "def return_most_common_venues(row, num_top_venues):\n",
    "    row_categories = row.iloc[1:]\n",
    "    row_categories_sorted = row_categories.sort_values(ascending=False)\n",
    "    \n",
    "    return row_categories_sorted.index.values[0:num_top_venues]"
   ]
  },
  {
   "cell_type": "markdown",
   "metadata": {},
   "source": [
    "### New dataframe and display the top 10 venues for each neighborhood"
   ]
  },
  {
   "cell_type": "code",
   "execution_count": null,
   "metadata": {},
   "outputs": [],
   "source": [
    "num_top_venues = 10\n",
    "\n",
    "indicators = ['st', 'nd', 'rd']\n",
    "\n",
    "# create columns according to number of top venues\n",
    "columns = ['Neighborhood']\n",
    "for ind in np.arange(num_top_venues):\n",
    "    try:\n",
    "        columns.append('{}{} Most Common Venue'.format(ind+1, indicators[ind]))\n",
    "    except:\n",
    "        columns.append('{}th Most Common Venue'.format(ind+1))\n",
    "\n",
    "# create a new dataframe\n",
    "neighborhoods_venues_sorted = pd.DataFrame(columns=columns)\n",
    "neighborhoods_venues_sorted['Neighborhood'] = toronto_grouped['Neighborhood']\n",
    "\n",
    "for ind in np.arange(toronto_grouped.shape[0]):\n",
    "    neighborhoods_venues_sorted.iloc[ind, 1:] = return_most_common_venues(toronto_grouped.iloc[ind, :], num_top_venues)\n",
    "\n",
    "neighborhoods_venues_sorted.head()"
   ]
  },
  {
   "cell_type": "markdown",
   "metadata": {},
   "source": [
    "### Clustering Neighborhoods"
   ]
  },
  {
   "cell_type": "markdown",
   "metadata": {},
   "source": [
    "Run k-means to cluster the neighborhood into 5 clusters."
   ]
  },
  {
   "cell_type": "code",
   "execution_count": null,
   "metadata": {},
   "outputs": [],
   "source": [
    "# set number of clusters\n",
    "kclusters = 5\n",
    "\n",
    "toronto_grouped_clustering = toronto_grouped.drop('Neighborhood', 1)\n",
    "\n",
    "# run k-means clustering\n",
    "kmeans = KMeans(n_clusters=kclusters, random_state=0).fit(toronto_grouped_clustering)\n",
    "\n",
    "# check cluster labels generated for each row in the dataframe\n",
    "kmeans.labels_[0:10] "
   ]
  },
  {
   "cell_type": "code",
   "execution_count": null,
   "metadata": {},
   "outputs": [],
   "source": [
    "toronto_grouped_clustering.head(3)"
   ]
  },
  {
   "cell_type": "code",
   "execution_count": null,
   "metadata": {},
   "outputs": [],
   "source": [
    "neighborhoods_venues_sorted.head(3)"
   ]
  },
  {
   "cell_type": "code",
   "execution_count": null,
   "metadata": {},
   "outputs": [],
   "source": [
    "neighborhoods_venues_sorted.insert(0, 'Cluster Labels', kmeans.labels_)"
   ]
  },
  {
   "cell_type": "code",
   "execution_count": null,
   "metadata": {},
   "outputs": [],
   "source": [
    "toronto_merged = pd.merge(toronto_data,neighborhoods_venues_sorted,on='Neighborhood')\n",
    "toronto_merged"
   ]
  },
  {
   "cell_type": "markdown",
   "metadata": {},
   "source": [
    "### Visualizing the clusters"
   ]
  },
  {
   "cell_type": "code",
   "execution_count": null,
   "metadata": {},
   "outputs": [],
   "source": [
    "map_clusters = folium.Map(location=[toronto_merged['Latitude'].mean(),toronto_merged['Longitude'].mean()], zoom_start=11)\n",
    "\n",
    "# set color scheme for the clusters\n",
    "x = np.arange(kclusters)\n",
    "ys = [i + x + (i*x)**2 for i in range(kclusters)]\n",
    "colors_array = cm.rainbow(np.linspace(0, 1, len(ys)))\n",
    "rainbow = [colors.rgb2hex(i) for i in colors_array]\n",
    "\n",
    "# add markers to the map\n",
    "markers_colors = []\n",
    "for lat, lon, poi, cluster in zip(toronto_merged['Latitude'], toronto_merged['Longitude'], toronto_merged['Neighborhood'], toronto_merged['Cluster Labels']):\n",
    "    label = folium.Popup(str(poi) + ' Cluster ' + str(cluster), parse_html=True)\n",
    "    folium.CircleMarker(\n",
    "        [lat, lon],\n",
    "        radius=5,\n",
    "        popup=label,\n",
    "        color=rainbow[cluster-1],\n",
    "        fill=True,\n",
    "        fill_color=rainbow[cluster-1],\n",
    "        fill_opacity=0.7).add_to(map_clusters)\n",
    "       \n",
    "map_clusters"
   ]
  },
  {
   "cell_type": "markdown",
   "metadata": {},
   "source": [
    "### Examine Clusters"
   ]
  },
  {
   "cell_type": "markdown",
   "metadata": {},
   "source": [
    "### Cluster 1"
   ]
  },
  {
   "cell_type": "code",
   "execution_count": null,
   "metadata": {},
   "outputs": [],
   "source": [
    "toronto_merged.loc[toronto_merged['Cluster Labels'] == 0, toronto_merged.columns[[1] + list(range(5, toronto_merged.shape[1]))]]"
   ]
  },
  {
   "cell_type": "markdown",
   "metadata": {},
   "source": [
    "### Cluster 2"
   ]
  },
  {
   "cell_type": "code",
   "execution_count": null,
   "metadata": {},
   "outputs": [],
   "source": [
    "toronto_merged.loc[toronto_merged['Cluster Labels'] == 1, toronto_merged.columns[[1] + list(range(5, toronto_merged.shape[1]))]]"
   ]
  },
  {
   "cell_type": "markdown",
   "metadata": {},
   "source": [
    "### Cluster 3"
   ]
  },
  {
   "cell_type": "code",
   "execution_count": null,
   "metadata": {},
   "outputs": [],
   "source": [
    "toronto_merged.loc[toronto_merged['Cluster Labels'] == 2, toronto_merged.columns[[1] + list(range(5, toronto_merged.shape[1]))]]"
   ]
  },
  {
   "cell_type": "markdown",
   "metadata": {},
   "source": [
    "### Cluster 4"
   ]
  },
  {
   "cell_type": "code",
   "execution_count": null,
   "metadata": {},
   "outputs": [],
   "source": [
    "toronto_merged.loc[toronto_merged['Cluster Labels'] == 3, toronto_merged.columns[[1] + list(range(5, toronto_merged.shape[1]))]]"
   ]
  },
  {
   "cell_type": "markdown",
   "metadata": {},
   "source": [
    "### Cluster 5"
   ]
  },
  {
   "cell_type": "code",
   "execution_count": null,
   "metadata": {},
   "outputs": [],
   "source": [
    "toronto_merged.loc[toronto_merged['Cluster Labels'] == 4, toronto_merged.columns[[1] + list(range(5, toronto_merged.shape[1]))]]"
   ]
  },
  {
   "cell_type": "code",
   "execution_count": null,
   "metadata": {},
   "outputs": [],
   "source": []
  }
 ],
 "metadata": {
  "kernelspec": {
   "display_name": "Python 3",
   "language": "python",
   "name": "python3"
  },
  "language_info": {
   "codemirror_mode": {
    "name": "ipython",
    "version": 3
   },
   "file_extension": ".py",
   "mimetype": "text/x-python",
   "name": "python",
   "nbconvert_exporter": "python",
   "pygments_lexer": "ipython3",
   "version": "3.6.5"
  }
 },
 "nbformat": 4,
 "nbformat_minor": 2
}
